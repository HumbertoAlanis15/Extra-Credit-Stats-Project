{
 "cells": [
  {
   "cell_type": "code",
   "execution_count": 1,
   "id": "fde78a74-7b0d-4577-afc3-f388b1926ba0",
   "metadata": {},
   "outputs": [],
   "source": [
    "def clean_string_data(price_str):\n",
    "    if pd.isna(price_str):\n",
    "        return np.nan\n",
    "        \n",
    "    price_str = str(price_str).strip()\n",
    "\n",
    "    clean_price_str = price_str.replace('$','').replace(',','').strip()\n",
    "\n",
    "    parts = []\n",
    "    if '-' in clean_price_str:\n",
    "        parts = clean_price_str.split('-')\n",
    "    elif '–' in clean_price_str:\n",
    "        parts = clean_price_str.split('–')\n",
    "    else:\n",
    "        parts = [clean_price_str]\n",
    "\n",
    "    numbers = []\n",
    "    for i in parts:\n",
    "        try:\n",
    "            numbers.append(float(i.strip()))\n",
    "        except ValueError:\n",
    "            continue\n",
    "            \n",
    "    if len(numbers) == 2:\n",
    "        return (numbers[0]+numbers[1])/2\n",
    "    elif len(numbers) == 1:\n",
    "        return numbers[0]\n",
    "    else:\n",
    "        return np.nan"
   ]
  }
 ],
 "metadata": {
  "kernelspec": {
   "display_name": "Python 3 (ipykernel)",
   "language": "python",
   "name": "python3"
  },
  "language_info": {
   "codemirror_mode": {
    "name": "ipython",
    "version": 3
   },
   "file_extension": ".py",
   "mimetype": "text/x-python",
   "name": "python",
   "nbconvert_exporter": "python",
   "pygments_lexer": "ipython3",
   "version": "3.13.1"
  }
 },
 "nbformat": 4,
 "nbformat_minor": 5
}
